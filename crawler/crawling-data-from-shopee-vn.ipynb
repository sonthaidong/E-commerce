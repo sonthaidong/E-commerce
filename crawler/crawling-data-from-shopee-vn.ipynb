{
 "cells": [
  {
   "cell_type": "code",
   "execution_count": null,
   "id": "local-waterproof",
   "metadata": {
    "papermill": {
     "duration": 0.025754,
     "end_time": "2021-06-30T17:22:15.614061",
     "exception": false,
     "start_time": "2021-06-30T17:22:15.588307",
     "status": "completed"
    },
    "tags": []
   },
   "outputs": [],
   "source": []
  },
  {
   "cell_type": "markdown",
   "id": "concrete-encoding",
   "metadata": {
    "papermill": {
     "duration": 0.024606,
     "end_time": "2021-06-30T17:22:15.663523",
     "exception": false,
     "start_time": "2021-06-30T17:22:15.638917",
     "status": "completed"
    },
    "tags": []
   },
   "source": [
    "To run the code you should download the notebook locally to execute the program.\n",
    "You need to install Selenium and chromedrive to be able to scrape data from the website.\n",
    "\n",
    "https://selenium-python.readthedocs.io/\n",
    "\\n\n",
    "https://chromedriver.chromium.org/downloads"
   ]
  },
  {
   "cell_type": "code",
   "execution_count": 1,
   "id": "composite-patch",
   "metadata": {
    "execution": {
     "iopub.execute_input": "2021-06-30T17:22:15.716926Z",
     "iopub.status.busy": "2021-06-30T17:22:15.715802Z",
     "iopub.status.idle": "2021-06-30T17:22:15.789959Z",
     "shell.execute_reply": "2021-06-30T17:22:15.787907Z"
    },
    "papermill": {
     "duration": 0.102104,
     "end_time": "2021-06-30T17:22:15.790268",
     "exception": true,
     "start_time": "2021-06-30T17:22:15.688164",
     "status": "failed"
    },
    "tags": []
   },
   "outputs": [
    {
     "ename": "ModuleNotFoundError",
     "evalue": "No module named 'selenium'",
     "output_type": "error",
     "traceback": [
      "\u001b[0;31m---------------------------------------------------------------------------\u001b[0m",
      "\u001b[0;31mModuleNotFoundError\u001b[0m                       Traceback (most recent call last)",
      "\u001b[0;32m<ipython-input-1-7b58c243e28d>\u001b[0m in \u001b[0;36m<module>\u001b[0;34m\u001b[0m\n\u001b[0;32m----> 1\u001b[0;31m \u001b[0;32mfrom\u001b[0m \u001b[0mselenium\u001b[0m \u001b[0;32mimport\u001b[0m \u001b[0mwebdriver\u001b[0m\u001b[0;34m\u001b[0m\u001b[0;34m\u001b[0m\u001b[0m\n\u001b[0m\u001b[1;32m      2\u001b[0m \u001b[0;32mfrom\u001b[0m \u001b[0mselenium\u001b[0m\u001b[0;34m.\u001b[0m\u001b[0mwebdriver\u001b[0m\u001b[0;34m.\u001b[0m\u001b[0mcommon\u001b[0m\u001b[0;34m.\u001b[0m\u001b[0mkeys\u001b[0m \u001b[0;32mimport\u001b[0m \u001b[0mKeys\u001b[0m\u001b[0;34m\u001b[0m\u001b[0;34m\u001b[0m\u001b[0m\n\u001b[1;32m      3\u001b[0m \u001b[0;32mfrom\u001b[0m \u001b[0mbs4\u001b[0m \u001b[0;32mimport\u001b[0m \u001b[0mBeautifulSoup\u001b[0m\u001b[0;34m\u001b[0m\u001b[0;34m\u001b[0m\u001b[0m\n\u001b[1;32m      4\u001b[0m \u001b[0;32mfrom\u001b[0m \u001b[0mselenium\u001b[0m\u001b[0;34m.\u001b[0m\u001b[0mwebdriver\u001b[0m\u001b[0;34m.\u001b[0m\u001b[0msupport\u001b[0m\u001b[0;34m.\u001b[0m\u001b[0mui\u001b[0m \u001b[0;32mimport\u001b[0m \u001b[0mWebDriverWait\u001b[0m\u001b[0;34m\u001b[0m\u001b[0;34m\u001b[0m\u001b[0m\n\u001b[1;32m      5\u001b[0m \u001b[0;32mimport\u001b[0m \u001b[0mpandas\u001b[0m \u001b[0;32mas\u001b[0m \u001b[0mpd\u001b[0m\u001b[0;34m\u001b[0m\u001b[0;34m\u001b[0m\u001b[0m\n",
      "\u001b[0;31mModuleNotFoundError\u001b[0m: No module named 'selenium'"
     ]
    }
   ],
   "source": [
    "from selenium import webdriver\n",
    "from selenium.webdriver.common.keys import Keys\n",
    "from bs4 import BeautifulSoup\n",
    "from selenium.webdriver.support.ui import WebDriverWait\n",
    "import pandas as pd"
   ]
  },
  {
   "cell_type": "code",
   "execution_count": null,
   "id": "configured-hacker",
   "metadata": {
    "execution": {
     "iopub.status.busy": "2021-06-30T17:15:54.917161Z",
     "iopub.status.idle": "2021-06-30T17:15:54.917573Z"
    },
    "papermill": {
     "duration": null,
     "end_time": null,
     "exception": null,
     "start_time": null,
     "status": "pending"
    },
    "tags": []
   },
   "outputs": [],
   "source": [
    "from time import sleep"
   ]
  },
  {
   "cell_type": "code",
   "execution_count": null,
   "id": "efficient-belly",
   "metadata": {
    "execution": {
     "iopub.status.busy": "2021-06-30T17:15:54.918848Z",
     "iopub.status.idle": "2021-06-30T17:15:54.919271Z"
    },
    "papermill": {
     "duration": null,
     "end_time": null,
     "exception": null,
     "start_time": null,
     "status": "pending"
    },
    "tags": []
   },
   "outputs": [],
   "source": [
    "# open browser by webdrive\n",
    "driver =  webdriver.Chrome()\n",
    "\n",
    "# name of shop\n",
    "shop = 'genz_official'\n",
    "url = 'https://shopee.vn/'+shop+'?page=0&sortBy=sales'\n",
    "print(url)\n",
    "driver.get(url)\n",
    "sleep(3)"
   ]
  },
  {
   "cell_type": "code",
   "execution_count": null,
   "id": "creative-adams",
   "metadata": {
    "execution": {
     "iopub.status.busy": "2021-06-30T17:15:54.920230Z",
     "iopub.status.idle": "2021-06-30T17:15:54.920678Z"
    },
    "papermill": {
     "duration": null,
     "end_time": null,
     "exception": null,
     "start_time": null,
     "status": "pending"
    },
    "tags": []
   },
   "outputs": [],
   "source": [
    "# get product information on each page\n",
    "def get_product_one_page():\n",
    "    # load page source into the program\n",
    "    page_source = BeautifulSoup(driver.page_source)\n",
    "    \n",
    "# only get products in the \"best seller\" box\n",
    "    parents_tags = page_source.find_all('div', class_ = 'shop-search-result-view')\n",
    "\n",
    "    \n",
    "    for result in parents_tags: \n",
    "        name_result = result.find_all('div', class_ = 'PFM7lj')\n",
    "        price_current_result = result.find_all('span', class_ = '_29R_un')\n",
    "        solds_result = result.find_all('div', class_ = 'go5yPW')\n",
    "\n",
    "    list_product_names = []\n",
    "    list_product_price_current = []\n",
    "    list_product_price_original = []\n",
    "    list_product_solds = []\n",
    "    \n",
    "    for item in range(len(name_result)):\n",
    "#         extract text in div . tag\n",
    "        name_item = name_result[item].text\n",
    "        price_current_item = price_current_result[item].text\n",
    "        solds_item = solds_result[item].text\n",
    "        \n",
    "        list_product_names.append(name_item)\n",
    "        list_product_price_current.append(price_current_item)\n",
    "        list_product_solds.append(solds_item)\n",
    "        item = item+1\n",
    "    \n",
    "    df = pd.DataFrame()\n",
    "    df['name'] = list_product_names\n",
    "    df['current_price'] = list_product_price_current\n",
    "    df['solds'] = list_product_solds\n",
    "\n",
    "    return df"
   ]
  },
  {
   "cell_type": "code",
   "execution_count": null,
   "id": "hairy-source",
   "metadata": {
    "papermill": {
     "duration": null,
     "end_time": null,
     "exception": null,
     "start_time": null,
     "status": "pending"
    },
    "tags": []
   },
   "outputs": [],
   "source": []
  },
  {
   "cell_type": "code",
   "execution_count": null,
   "id": "hidden-density",
   "metadata": {
    "execution": {
     "iopub.status.busy": "2021-06-30T17:15:54.921503Z",
     "iopub.status.idle": "2021-06-30T17:15:54.921942Z"
    },
    "papermill": {
     "duration": null,
     "end_time": null,
     "exception": null,
     "start_time": null,
     "status": "pending"
    },
    "tags": []
   },
   "outputs": [],
   "source": [
    "# get product information on all pages\n",
    "def get_product_all_pages(number_of_page):\n",
    "    all_page = pd.DataFrame()\n",
    "    number_of_pages = number_of_page\n",
    "    for page in range(number_of_pages):\n",
    "        one_page = get_product_one_page()\n",
    "        all_page = all_page.append(one_page)\n",
    "        sleep(2)\n",
    "#         scroll the page down to the \"next\" button\n",
    "        driver.execute_script('window.scrollTo(X=0,Y=4350);')\n",
    "        next_button = driver.find_element_by_xpath('//*[@id=\"main\"]/div/div[3]/div/div[2]/div/div[3]/div[3]/div[2]/div[3]/button[4]')\n",
    "        driver.execute_script(\"arguments[0].click();\", next_button)        \n",
    "    sleep(3)\n",
    "    return all_page\n",
    "        "
   ]
  },
  {
   "cell_type": "code",
   "execution_count": null,
   "id": "automotive-small",
   "metadata": {
    "execution": {
     "iopub.status.busy": "2021-06-30T17:15:54.922925Z",
     "iopub.status.idle": "2021-06-30T17:15:54.923347Z"
    },
    "papermill": {
     "duration": null,
     "end_time": null,
     "exception": null,
     "start_time": null,
     "status": "pending"
    },
    "tags": []
   },
   "outputs": [],
   "source": [
    "data = pd.DataFrame()"
   ]
  },
  {
   "cell_type": "code",
   "execution_count": null,
   "id": "confidential-yield",
   "metadata": {
    "papermill": {
     "duration": null,
     "end_time": null,
     "exception": null,
     "start_time": null,
     "status": "pending"
    },
    "tags": []
   },
   "outputs": [],
   "source": []
  },
  {
   "cell_type": "code",
   "execution_count": null,
   "id": "ranging-ability",
   "metadata": {
    "execution": {
     "iopub.status.busy": "2021-06-30T17:15:54.924205Z",
     "iopub.status.idle": "2021-06-30T17:15:54.924621Z"
    },
    "papermill": {
     "duration": null,
     "end_time": null,
     "exception": null,
     "start_time": null,
     "status": "pending"
    },
    "tags": []
   },
   "outputs": [],
   "source": [
    "data = get_product_all_pages(2)"
   ]
  },
  {
   "cell_type": "code",
   "execution_count": null,
   "id": "reflected-newark",
   "metadata": {
    "execution": {
     "iopub.status.busy": "2021-06-30T17:15:54.925428Z",
     "iopub.status.idle": "2021-06-30T17:15:54.925875Z"
    },
    "papermill": {
     "duration": null,
     "end_time": null,
     "exception": null,
     "start_time": null,
     "status": "pending"
    },
    "tags": []
   },
   "outputs": [],
   "source": [
    "df1 = data"
   ]
  },
  {
   "cell_type": "code",
   "execution_count": null,
   "id": "comic-producer",
   "metadata": {
    "execution": {
     "iopub.status.busy": "2021-06-30T17:15:54.926683Z",
     "iopub.status.idle": "2021-06-30T17:15:54.927102Z"
    },
    "papermill": {
     "duration": null,
     "end_time": null,
     "exception": null,
     "start_time": null,
     "status": "pending"
    },
    "tags": []
   },
   "outputs": [],
   "source": [
    "data"
   ]
  },
  {
   "cell_type": "code",
   "execution_count": null,
   "id": "junior-watershed",
   "metadata": {
    "execution": {
     "iopub.status.busy": "2021-06-30T17:15:54.954725Z",
     "iopub.status.idle": "2021-06-30T17:15:54.955224Z"
    },
    "papermill": {
     "duration": null,
     "end_time": null,
     "exception": null,
     "start_time": null,
     "status": "pending"
    },
    "tags": []
   },
   "outputs": [],
   "source": [
    "# replace the letter 'k' in the string to '00'\n",
    "for index,row in df1.iterrows():\n",
    "    row['solds'] = row['solds'].replace(\"k\",\"00\")\n",
    "\n",
    "# replace the letter ',' in the string to ''\n",
    "for index,row in df1.iterrows():\n",
    "    row['solds'] = row['solds'].replace(\",\",\"\")"
   ]
  },
  {
   "cell_type": "code",
   "execution_count": null,
   "id": "macro-terrorism",
   "metadata": {
    "execution": {
     "iopub.status.busy": "2021-06-30T17:15:54.957014Z",
     "iopub.status.idle": "2021-06-30T17:15:54.957672Z"
    },
    "papermill": {
     "duration": null,
     "end_time": null,
     "exception": null,
     "start_time": null,
     "status": "pending"
    },
    "tags": []
   },
   "outputs": [],
   "source": [
    "data"
   ]
  },
  {
   "cell_type": "code",
   "execution_count": null,
   "id": "hungarian-greensboro",
   "metadata": {
    "execution": {
     "iopub.status.busy": "2021-06-30T17:15:54.959767Z",
     "iopub.status.idle": "2021-06-30T17:15:54.960384Z"
    },
    "papermill": {
     "duration": null,
     "end_time": null,
     "exception": null,
     "start_time": null,
     "status": "pending"
    },
    "tags": []
   },
   "outputs": [],
   "source": [
    "# get the number in str for example: 'đã bán 37/month' => 37\n",
    "df1['solds'] = df1['solds'].str.extract('(\\d+)')"
   ]
  },
  {
   "cell_type": "code",
   "execution_count": null,
   "id": "located-father",
   "metadata": {
    "execution": {
     "iopub.status.busy": "2021-06-30T17:15:54.961882Z",
     "iopub.status.idle": "2021-06-30T17:15:54.962508Z"
    },
    "papermill": {
     "duration": null,
     "end_time": null,
     "exception": null,
     "start_time": null,
     "status": "pending"
    },
    "tags": []
   },
   "outputs": [],
   "source": [
    "df1 = df1.fillna(0)"
   ]
  },
  {
   "cell_type": "code",
   "execution_count": null,
   "id": "protected-affect",
   "metadata": {
    "execution": {
     "iopub.status.busy": "2021-06-30T17:15:54.963809Z",
     "iopub.status.idle": "2021-06-30T17:15:54.964417Z"
    },
    "papermill": {
     "duration": null,
     "end_time": null,
     "exception": null,
     "start_time": null,
     "status": "pending"
    },
    "tags": []
   },
   "outputs": [],
   "source": [
    "df1"
   ]
  },
  {
   "cell_type": "code",
   "execution_count": null,
   "id": "durable-maximum",
   "metadata": {
    "execution": {
     "iopub.status.busy": "2021-06-30T17:15:54.983557Z",
     "iopub.status.idle": "2021-06-30T17:15:54.984044Z"
    },
    "papermill": {
     "duration": null,
     "end_time": null,
     "exception": null,
     "start_time": null,
     "status": "pending"
    },
    "tags": []
   },
   "outputs": [],
   "source": [
    "# type of current_price\n",
    "type(df1.iloc[3,1])"
   ]
  },
  {
   "cell_type": "code",
   "execution_count": null,
   "id": "impressive-balance",
   "metadata": {
    "execution": {
     "iopub.status.busy": "2021-06-30T17:15:55.000798Z",
     "iopub.status.idle": "2021-06-30T17:15:55.001251Z"
    },
    "papermill": {
     "duration": null,
     "end_time": null,
     "exception": null,
     "start_time": null,
     "status": "pending"
    },
    "tags": []
   },
   "outputs": [],
   "source": [
    "# type of solds\n",
    "type(df1.iloc[3,2])"
   ]
  },
  {
   "cell_type": "code",
   "execution_count": null,
   "id": "global-maryland",
   "metadata": {
    "execution": {
     "iopub.status.busy": "2021-06-30T17:15:55.006696Z",
     "iopub.status.idle": "2021-06-30T17:15:55.007156Z"
    },
    "papermill": {
     "duration": null,
     "end_time": null,
     "exception": null,
     "start_time": null,
     "status": "pending"
    },
    "tags": []
   },
   "outputs": [],
   "source": [
    "# remove the dot in the string to convert to int\n",
    "for index,row in df1.iterrows():\n",
    "    row['current_price'] = row['current_price'].replace(\".\",\"\")\n"
   ]
  },
  {
   "cell_type": "code",
   "execution_count": null,
   "id": "early-assist",
   "metadata": {
    "execution": {
     "iopub.status.busy": "2021-06-30T17:15:55.015772Z",
     "iopub.status.idle": "2021-06-30T17:15:55.016197Z"
    },
    "papermill": {
     "duration": null,
     "end_time": null,
     "exception": null,
     "start_time": null,
     "status": "pending"
    },
    "tags": []
   },
   "outputs": [],
   "source": [
    "# df1['current_price']=current_price"
   ]
  },
  {
   "cell_type": "code",
   "execution_count": null,
   "id": "ahead-dealer",
   "metadata": {
    "execution": {
     "iopub.execute_input": "2021-06-30T17:15:55.023197Z",
     "iopub.status.busy": "2021-06-30T17:15:55.022913Z",
     "iopub.status.idle": "2021-06-30T17:15:55.037415Z",
     "shell.execute_reply": "2021-06-30T17:15:55.035986Z",
     "shell.execute_reply.started": "2021-06-30T17:15:55.023170Z"
    },
    "papermill": {
     "duration": null,
     "end_time": null,
     "exception": null,
     "start_time": null,
     "status": "pending"
    },
    "tags": []
   },
   "outputs": [],
   "source": [
    "df1.head()"
   ]
  },
  {
   "cell_type": "code",
   "execution_count": null,
   "id": "crucial-paradise",
   "metadata": {
    "execution": {
     "iopub.status.busy": "2021-06-30T17:15:55.038427Z",
     "iopub.status.idle": "2021-06-30T17:15:55.038886Z"
    },
    "papermill": {
     "duration": null,
     "end_time": null,
     "exception": null,
     "start_time": null,
     "status": "pending"
    },
    "tags": []
   },
   "outputs": [],
   "source": [
    "# calculate revenue per product\n",
    "df1['revenue_per_product'] = df1['current_price'].astype(int)*df1['solds'].astype(int)"
   ]
  },
  {
   "cell_type": "code",
   "execution_count": null,
   "id": "wanted-harvest",
   "metadata": {
    "execution": {
     "iopub.status.busy": "2021-06-30T17:15:55.046368Z",
     "iopub.status.idle": "2021-06-30T17:15:55.046875Z"
    },
    "papermill": {
     "duration": null,
     "end_time": null,
     "exception": null,
     "start_time": null,
     "status": "pending"
    },
    "tags": []
   },
   "outputs": [],
   "source": [
    "df1.head()"
   ]
  },
  {
   "cell_type": "code",
   "execution_count": null,
   "id": "recreational-denver",
   "metadata": {
    "execution": {
     "iopub.status.busy": "2021-06-30T17:15:55.068110Z",
     "iopub.status.idle": "2021-06-30T17:15:55.068630Z"
    },
    "papermill": {
     "duration": null,
     "end_time": null,
     "exception": null,
     "start_time": null,
     "status": "pending"
    },
    "tags": []
   },
   "outputs": [],
   "source": [
    "df1.to_csv('revenue per product i')"
   ]
  },
  {
   "cell_type": "code",
   "execution_count": null,
   "id": "static-travel",
   "metadata": {
    "execution": {
     "iopub.status.busy": "2021-06-30T17:15:55.073482Z",
     "iopub.status.idle": "2021-06-30T17:15:55.073987Z"
    },
    "papermill": {
     "duration": null,
     "end_time": null,
     "exception": null,
     "start_time": null,
     "status": "pending"
    },
    "tags": []
   },
   "outputs": [],
   "source": [
    "# shop's revenue\n",
    "df1['revenue_per_product'].sum()"
   ]
  },
  {
   "cell_type": "code",
   "execution_count": null,
   "id": "dimensional-canberra",
   "metadata": {
    "papermill": {
     "duration": null,
     "end_time": null,
     "exception": null,
     "start_time": null,
     "status": "pending"
    },
    "tags": []
   },
   "outputs": [],
   "source": []
  }
 ],
 "metadata": {
  "kernelspec": {
   "display_name": "Python 3",
   "language": "python",
   "name": "python3"
  },
  "language_info": {
   "codemirror_mode": {
    "name": "ipython",
    "version": 3
   },
   "file_extension": ".py",
   "mimetype": "text/x-python",
   "name": "python",
   "nbconvert_exporter": "python",
   "pygments_lexer": "ipython3",
   "version": "3.7.10"
  },
  "papermill": {
   "default_parameters": {},
   "duration": 9.503509,
   "end_time": "2021-06-30T17:22:16.524631",
   "environment_variables": {},
   "exception": true,
   "input_path": "__notebook__.ipynb",
   "output_path": "__notebook__.ipynb",
   "parameters": {},
   "start_time": "2021-06-30T17:22:07.021122",
   "version": "2.3.3"
  }
 },
 "nbformat": 4,
 "nbformat_minor": 5
}
